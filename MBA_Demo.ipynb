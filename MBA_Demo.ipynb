{
 "cells": [
  {
   "cell_type": "markdown",
   "metadata": {},
   "source": [
    "Mini-Batch AUC Optimization (MBA)\n",
    "=================\n",
    "\n",
    "A comparison of Mini-Batch AUC Optimization (MBA) with Online Logistic Regression (ONLR) on a sample dataset."
   ]
  },
  {
   "cell_type": "code",
   "execution_count": 1,
   "metadata": {
    "collapsed": true
   },
   "outputs": [],
   "source": [
    "import numpy as np\n",
    "import matplotlib.pyplot as plt\n",
    "from sklearn.datasets import load_svmlight_file\n",
    "from sklearn.metrics import roc_auc_score\n",
    "from tqdm import tqdm"
   ]
  },
  {
   "cell_type": "code",
   "execution_count": 2,
   "metadata": {
    "collapsed": true
   },
   "outputs": [],
   "source": [
    "#load svmguide dataset\n",
    "#this data has 21 features\n",
    "train_path, test_path, no_feat = './data/data_train', './data/data_test', 21\n",
    "X_train, y_train = load_svmlight_file(train_path, no_feat)\n",
    "X_test, y_test = load_svmlight_file(test_path, no_feat)\n",
    "\n",
    "X_train = np.asarray( X_train.todense() )\n",
    "X_test = np.asarray( X_test.todense() )\n",
    "\n",
    "y_train_01 = .5*(y_train+1)\n",
    "y_test_01 = .5*(y_test+1)"
   ]
  },
  {
   "cell_type": "code",
   "execution_count": 3,
   "metadata": {},
   "outputs": [],
   "source": [
    "#Online logistic regression\n",
    "class ONLR:\n",
    "    def __init__(self, no_feat, lam2):\n",
    "        self.weig = np.zeros(no_feat + 1)\n",
    "        self.lam2 = lam2\n",
    "        self.err = []    \n",
    "    \n",
    "    \n",
    "    def predict(self, x):\n",
    "        x_aug = np.append(x, 1.0)\n",
    "        return 1.0 / ( 1.0 + np.exp(-np.dot(self.weig, x_aug)) )\n",
    "    \n",
    "    \n",
    "    def update(self, x, y, step_size):\n",
    "        x_aug = np.append( x , 1.0 ) #add bias term to end \n",
    "        y_hat = self.predict(x)    \n",
    "        grd = (y_hat-y)*x_aug + self.lam2*self.weig\n",
    "        self.weig = self.weig - step_size*grd\n",
    "    \n",
    "     \n",
    "    def rec_err(self, X_train, y_train):\n",
    "        Xw = X_train.dot(self.weig[:-1]) + self.weig[-1]\n",
    "        p1, p2 = np.log(1 + np.exp(-Xw)), np.log(1 + np.exp(Xw))\n",
    "        self.err.append( np.dot(y_train, p1) + np.dot(1-y_train, p2) )"
   ]
  },
  {
   "cell_type": "code",
   "execution_count": 55,
   "metadata": {},
   "outputs": [
    {
     "name": "stderr",
     "output_type": "stream",
     "text": [
      "100%|██████████| 64200/64200 [00:02<00:00, 28444.84it/s]\n"
     ]
    }
   ],
   "source": [
    "clf = ONLR(no_feat, 1e-4) #L2 regularization set from paper\n",
    "#for the best performance use slow learning rate and large number of iterations\n",
    "#the problem is convex so there is a unique solution\n",
    "step_size = 1e-3\n",
    "for i in tqdm(xrange(100*X_train.shape[0])):\n",
    "    sel = np.random.choice(X_train.shape[0])\n",
    "    clf.update(X_train[sel,:], y_train_01[sel], step_size)\n",
    "    if (i+1)%10==0:\n",
    "        clf.rec_err(X_train,y_train_01)    "
   ]
  },
  {
   "cell_type": "code",
   "execution_count": 56,
   "metadata": {},
   "outputs": [
    {
     "data": {
      "image/png": "[encoded data removed]",
      "text/plain": [
       "<matplotlib.figure.Figure at 0x98a8f28>"
      ]
     },
     "metadata": {},
     "output_type": "display_data"
    }
   ],
   "source": [
    "plt.figure()\n",
    "plt.plot(clf.err)\n",
    "plt.xlabel('Iteration')\n",
    "plt.ylabel('Error')\n",
    "plt.show()"
   ]
  },
  {
   "cell_type": "code",
   "execution_count": 57,
   "metadata": {},
   "outputs": [
    {
     "name": "stdout",
     "output_type": "stream",
     "text": [
      "AUC of Logistic Regression\n",
      "0.660320002002\n"
     ]
    }
   ],
   "source": [
    "print('AUC of ONLR')\n",
    "y_test_hat = np.array([])\n",
    "for i in range(X_test.shape[0]):\n",
    "    y_test_hat = np.append(y_test_hat, clf.predict(X_test[i,:]))\n",
    "print(roc_auc_score(y_test,y_test_hat))"
   ]
  },
  {
   "cell_type": "code",
   "execution_count": 128,
   "metadata": {},
   "outputs": [],
   "source": [
    "#Mini-Batch AUC Optimization\n",
    "\n",
    "class MBA:\n",
    "    def __init__(self, lam2, mb_size, no_iter):\n",
    "        self.lam2 = lam2\n",
    "        self.mb_size = mb_size\n",
    "        self.no_iter = no_iter\n",
    "        self.apprx_mean = None\n",
    "        self.apprx_cov = None\n",
    "        self.weig = None\n",
    "    \n",
    "    def apprx_moments(self, Xp, Xm):\n",
    "        apprx_mean = np.zeros(Xp.shape[0])\n",
    "        apprx_cov = np.zeros((Xp.shape[0], Xp.shape[0]))    \n",
    "        for i in xrange(self.no_iter):\n",
    "            Xp_sub = Xp[:, np.random.choice(Xp.shape[1], self.mb_size, replace=True)]\n",
    "            Xm_sub = Xm[:, np.random.choice(Xm.shape[1], self.mb_size, replace=True)]\n",
    "            Xdif = Xp_sub - Xm_sub\n",
    "            apprx_mean = apprx_mean + (1.0/self.mb_size)*np.sum(Xdif, axis=1)\n",
    "            apprx_cov = apprx_cov + (1.0/self.mb_size)*np.dot(Xdif,Xdif.T)        \n",
    "        apprx_mean = (1.0/self.no_iter)*apprx_mean\n",
    "        apprx_cov = (1.0/self.no_iter)*apprx_cov    \n",
    "        self.apprx_mean = apprx_mean\n",
    "        self.apprx_cov = apprx_cov\n",
    "    \n",
    "    \n",
    "    def train(self, Xp, Xm):\n",
    "        self.apprx_moments(Xp, Xm)\n",
    "        self.weig = np.linalg.inv(self.lam2*np.eye(self.apprx_cov.shape[0]) + \\\n",
    "                             self.apprx_cov).dot(self.apprx_mean)\n",
    "    \n",
    "    \n",
    "    def predict(self, x):\n",
    "        return np.dot(self.weig, x)"
   ]
  },
  {
   "cell_type": "code",
   "execution_count": 132,
   "metadata": {},
   "outputs": [
    {
     "name": "stdout",
     "output_type": "stream",
     "text": [
      "<type 'numpy.ndarray'>\n"
     ]
    }
   ],
   "source": [
    "#split positive and negative instances\n",
    "Xp, Xm = X_train[np.where(y_train > 0)].T, X_train[np.where(y_train < 0)].T\n",
    "\n",
    "clf = MBA(1e-6, X_train.shape[0], 1) #L2 regularization set from paper\n",
    "clf.train(Xp, Xm)  "
   ]
  },
  {
   "cell_type": "code",
   "execution_count": 134,
   "metadata": {},
   "outputs": [
    {
     "name": "stdout",
     "output_type": "stream",
     "text": [
      "AUC of MBA\n",
      "0.804008156423\n"
     ]
    }
   ],
   "source": [
    "print('AUC of MBA')\n",
    "y_test_hat = np.array([])\n",
    "for i in range(X_test.shape[0]):\n",
    "    y_test_hat = np.append(y_test_hat, clf.predict(X_test[i,:]))\n",
    "print(roc_auc_score(y_test,y_test_hat))"
   ]
  },
  {
   "cell_type": "markdown",
   "metadata": {},
   "source": [
    "Conclusion\n",
    "======\n",
    "\n",
    "* AUC of ONLR = 66 %\n",
    "* AUC of MBA = 80%\n",
    "* MBA achieves 14% better AUC compared to ONLR.\n",
    "* ONLR requires 100 times more samples than MBA to reach 66%.\n",
    "* ONLR can get competitive performance if we use 1000 more samples!"
   ]
  },
  {
   "cell_type": "code",
   "execution_count": 135,
   "metadata": {},
   "outputs": [
    {
     "name": "stderr",
     "output_type": "stream",
     "text": [
      "100%|██████████| 642000/642000 [00:22<00:00, 29169.88it/s]\n"
     ]
    }
   ],
   "source": [
    "#Demo with 1000x samples\n",
    "clf = ONLR(no_feat, 1e-4) #L2 regularization set from paper\n",
    "#for the best performance use slow learning rate and large number of iterations\n",
    "#the problem is convex so there is a unique solution\n",
    "step_size = 1e-3\n",
    "for i in tqdm(xrange(1000*X_train.shape[0])):\n",
    "    sel = np.random.choice(X_train.shape[0])\n",
    "    clf.update(X_train[sel,:], y_train_01[sel], step_size)\n",
    "    if (i+1)%10==0:\n",
    "        clf.rec_err(X_train,y_train_01) "
   ]
  },
  {
   "cell_type": "code",
   "execution_count": 136,
   "metadata": {},
   "outputs": [
    {
     "data": {
      "image/png": "[encoded data removed]",
      "text/plain": [
       "<matplotlib.figure.Figure at 0xbc1acc0>"
      ]
     },
     "metadata": {},
     "output_type": "display_data"
    }
   ],
   "source": [
    "plt.figure()\n",
    "plt.plot(clf.err)\n",
    "plt.xlabel('Iteration')\n",
    "plt.ylabel('Error')\n",
    "plt.show()"
   ]
  },
  {
   "cell_type": "code",
   "execution_count": 137,
   "metadata": {},
   "outputs": [
    {
     "name": "stdout",
     "output_type": "stream",
     "text": [
      "AUC of ONLR with 1000x Samples\n",
      "0.781202697124\n"
     ]
    }
   ],
   "source": [
    "print('AUC of ONLR with 1000x Samples')\n",
    "y_test_hat = np.array([])\n",
    "for i in range(X_test.shape[0]):\n",
    "    y_test_hat = np.append(y_test_hat, clf.predict(X_test[i,:]))\n",
    "print(roc_auc_score(y_test,y_test_hat))"
   ]
  }
 ],
 "metadata": {
  "kernelspec": {
   "display_name": "Python 2",
   "language": "python",
   "name": "python2"
  },
  "language_info": {
   "codemirror_mode": {
    "name": "ipython",
    "version": 2
   },
   "file_extension": ".py",
   "mimetype": "text/x-python",
   "name": "python",
   "nbconvert_exporter": "python",
   "pygments_lexer": "ipython2",
   "version": "2.7.14"
  }
 },
 "nbformat": 4,
 "nbformat_minor": 2
}
